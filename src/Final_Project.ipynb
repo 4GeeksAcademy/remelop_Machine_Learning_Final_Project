{
    "cells": [
        {
            "cell_type": "markdown",
            "metadata": {},
            "source": [
                "# Proyecto final de Machine Learning"
            ]
        },
        {
            "cell_type": "code",
            "execution_count": 105,
            "metadata": {},
            "outputs": [],
            "source": [
                "# Libraries\n",
                "import pandas as pd\n",
                "import numpy as np\n",
                "import matplotlib.pyplot as plt\n",
                "import seaborn as sns"
            ]
        },
        {
            "cell_type": "code",
            "execution_count": 106,
            "metadata": {},
            "outputs": [],
            "source": [
                "import warnings \n",
                "warnings.filterwarnings('ignore')"
            ]
        },
        {
            "cell_type": "code",
            "execution_count": 107,
            "metadata": {},
            "outputs": [],
            "source": [
                "# make sure to install these packages before running:\n",
                "# pip install pandas\n",
                "# pip install sodapy\n",
                "import pandas as pd\n",
                "from sodapy import Socrata"
            ]
        },
        {
            "cell_type": "code",
            "execution_count": 108,
            "metadata": {},
            "outputs": [
                {
                    "name": "stderr",
                    "output_type": "stream",
                    "text": [
                        "WARNING:root:Requests made without an app_token will be subject to strict throttling limits.\n"
                    ]
                }
            ],
            "source": [
                "# Unauthenticated client only works with public data sets. Note 'None'\n",
                "# in place of application token, and no username or password:\n",
                "client = Socrata(\"www.datos.gov.co\", None)\n",
                "\n",
                "# Example authenticated client (needed for non-public datasets):\n",
                "# client = Socrata(www.datos.gov.co,\n",
                "#                  MyAppToken,\n",
                "#                  username=\"user@example.com\",\n",
                "#                  password=\"AFakePassword\")"
            ]
        },
        {
            "cell_type": "code",
            "execution_count": 109,
            "metadata": {},
            "outputs": [],
            "source": [
                "# First 100000 results, returned as JSON from API / converted to Python list of\n",
                "# dictionaries by sodapy.\n",
                "results = client.get(\"gt2j-8ykr\", limit=100000)"
            ]
        },
        {
            "cell_type": "code",
            "execution_count": 110,
            "metadata": {},
            "outputs": [
                {
                    "data": {
                        "text/html": [
                            "<div>\n",
                            "<style scoped>\n",
                            "    .dataframe tbody tr th:only-of-type {\n",
                            "        vertical-align: middle;\n",
                            "    }\n",
                            "\n",
                            "    .dataframe tbody tr th {\n",
                            "        vertical-align: top;\n",
                            "    }\n",
                            "\n",
                            "    .dataframe thead th {\n",
                            "        text-align: right;\n",
                            "    }\n",
                            "</style>\n",
                            "<table border=\"1\" class=\"dataframe\">\n",
                            "  <thead>\n",
                            "    <tr style=\"text-align: right;\">\n",
                            "      <th></th>\n",
                            "      <th>fecha_reporte_web</th>\n",
                            "      <th>id_de_caso</th>\n",
                            "      <th>fecha_de_notificaci_n</th>\n",
                            "      <th>departamento</th>\n",
                            "      <th>departamento_nom</th>\n",
                            "      <th>ciudad_municipio</th>\n",
                            "      <th>ciudad_municipio_nom</th>\n",
                            "      <th>edad</th>\n",
                            "      <th>unidad_medida</th>\n",
                            "      <th>sexo</th>\n",
                            "      <th>...</th>\n",
                            "      <th>recuperado</th>\n",
                            "      <th>fecha_inicio_sintomas</th>\n",
                            "      <th>fecha_diagnostico</th>\n",
                            "      <th>fecha_recuperado</th>\n",
                            "      <th>tipo_recuperacion</th>\n",
                            "      <th>per_etn_</th>\n",
                            "      <th>fecha_muerte</th>\n",
                            "      <th>nom_grupo_</th>\n",
                            "      <th>pais_viajo_1_cod</th>\n",
                            "      <th>pais_viajo_1_nom</th>\n",
                            "    </tr>\n",
                            "  </thead>\n",
                            "  <tbody>\n",
                            "    <tr>\n",
                            "      <th>0</th>\n",
                            "      <td>2020-12-24 00:00:00</td>\n",
                            "      <td>1556979</td>\n",
                            "      <td>2020-12-22 00:00:00</td>\n",
                            "      <td>76</td>\n",
                            "      <td>VALLE</td>\n",
                            "      <td>76001</td>\n",
                            "      <td>CALI</td>\n",
                            "      <td>67</td>\n",
                            "      <td>1</td>\n",
                            "      <td>F</td>\n",
                            "      <td>...</td>\n",
                            "      <td>Recuperado</td>\n",
                            "      <td>2020-12-21 00:00:00</td>\n",
                            "      <td>2020-12-23 00:00:00</td>\n",
                            "      <td>2021-01-04 00:00:00</td>\n",
                            "      <td>Tiempo</td>\n",
                            "      <td>6</td>\n",
                            "      <td>NaN</td>\n",
                            "      <td>NaN</td>\n",
                            "      <td>NaN</td>\n",
                            "      <td>NaN</td>\n",
                            "    </tr>\n",
                            "    <tr>\n",
                            "      <th>1</th>\n",
                            "      <td>2020-12-24 00:00:00</td>\n",
                            "      <td>1556980</td>\n",
                            "      <td>2020-12-19 00:00:00</td>\n",
                            "      <td>76</td>\n",
                            "      <td>VALLE</td>\n",
                            "      <td>76001</td>\n",
                            "      <td>CALI</td>\n",
                            "      <td>66</td>\n",
                            "      <td>1</td>\n",
                            "      <td>F</td>\n",
                            "      <td>...</td>\n",
                            "      <td>Recuperado</td>\n",
                            "      <td>2020-12-07 00:00:00</td>\n",
                            "      <td>2020-12-23 00:00:00</td>\n",
                            "      <td>2020-12-25 00:00:00</td>\n",
                            "      <td>Tiempo</td>\n",
                            "      <td>6</td>\n",
                            "      <td>NaN</td>\n",
                            "      <td>NaN</td>\n",
                            "      <td>NaN</td>\n",
                            "      <td>NaN</td>\n",
                            "    </tr>\n",
                            "    <tr>\n",
                            "      <th>2</th>\n",
                            "      <td>2020-12-24 00:00:00</td>\n",
                            "      <td>1556981</td>\n",
                            "      <td>2020-12-19 00:00:00</td>\n",
                            "      <td>76</td>\n",
                            "      <td>VALLE</td>\n",
                            "      <td>76001</td>\n",
                            "      <td>CALI</td>\n",
                            "      <td>68</td>\n",
                            "      <td>1</td>\n",
                            "      <td>F</td>\n",
                            "      <td>...</td>\n",
                            "      <td>Recuperado</td>\n",
                            "      <td>2020-12-18 00:00:00</td>\n",
                            "      <td>2020-12-22 00:00:00</td>\n",
                            "      <td>2021-01-01 00:00:00</td>\n",
                            "      <td>Tiempo</td>\n",
                            "      <td>6</td>\n",
                            "      <td>NaN</td>\n",
                            "      <td>NaN</td>\n",
                            "      <td>NaN</td>\n",
                            "      <td>NaN</td>\n",
                            "    </tr>\n",
                            "    <tr>\n",
                            "      <th>3</th>\n",
                            "      <td>2020-12-24 00:00:00</td>\n",
                            "      <td>1556982</td>\n",
                            "      <td>2020-12-22 00:00:00</td>\n",
                            "      <td>76</td>\n",
                            "      <td>VALLE</td>\n",
                            "      <td>76001</td>\n",
                            "      <td>CALI</td>\n",
                            "      <td>74</td>\n",
                            "      <td>1</td>\n",
                            "      <td>F</td>\n",
                            "      <td>...</td>\n",
                            "      <td>Fallecido</td>\n",
                            "      <td>2020-12-17 00:00:00</td>\n",
                            "      <td>2020-12-23 00:00:00</td>\n",
                            "      <td>NaN</td>\n",
                            "      <td>NaN</td>\n",
                            "      <td>6</td>\n",
                            "      <td>2020-12-30 00:00:00</td>\n",
                            "      <td>NaN</td>\n",
                            "      <td>NaN</td>\n",
                            "      <td>NaN</td>\n",
                            "    </tr>\n",
                            "    <tr>\n",
                            "      <th>4</th>\n",
                            "      <td>2020-12-24 00:00:00</td>\n",
                            "      <td>1556983</td>\n",
                            "      <td>2020-12-22 00:00:00</td>\n",
                            "      <td>76</td>\n",
                            "      <td>VALLE</td>\n",
                            "      <td>76001</td>\n",
                            "      <td>CALI</td>\n",
                            "      <td>65</td>\n",
                            "      <td>1</td>\n",
                            "      <td>F</td>\n",
                            "      <td>...</td>\n",
                            "      <td>Recuperado</td>\n",
                            "      <td>2020-12-21 00:00:00</td>\n",
                            "      <td>2020-12-23 00:00:00</td>\n",
                            "      <td>2021-01-04 00:00:00</td>\n",
                            "      <td>Tiempo</td>\n",
                            "      <td>6</td>\n",
                            "      <td>NaN</td>\n",
                            "      <td>NaN</td>\n",
                            "      <td>NaN</td>\n",
                            "      <td>NaN</td>\n",
                            "    </tr>\n",
                            "  </tbody>\n",
                            "</table>\n",
                            "<p>5 rows × 23 columns</p>\n",
                            "</div>"
                        ],
                        "text/plain": [
                            "     fecha_reporte_web id_de_caso fecha_de_notificaci_n departamento  \\\n",
                            "0  2020-12-24 00:00:00    1556979   2020-12-22 00:00:00           76   \n",
                            "1  2020-12-24 00:00:00    1556980   2020-12-19 00:00:00           76   \n",
                            "2  2020-12-24 00:00:00    1556981   2020-12-19 00:00:00           76   \n",
                            "3  2020-12-24 00:00:00    1556982   2020-12-22 00:00:00           76   \n",
                            "4  2020-12-24 00:00:00    1556983   2020-12-22 00:00:00           76   \n",
                            "\n",
                            "  departamento_nom ciudad_municipio ciudad_municipio_nom edad unidad_medida  \\\n",
                            "0            VALLE            76001                 CALI   67             1   \n",
                            "1            VALLE            76001                 CALI   66             1   \n",
                            "2            VALLE            76001                 CALI   68             1   \n",
                            "3            VALLE            76001                 CALI   74             1   \n",
                            "4            VALLE            76001                 CALI   65             1   \n",
                            "\n",
                            "  sexo  ...  recuperado fecha_inicio_sintomas    fecha_diagnostico  \\\n",
                            "0    F  ...  Recuperado   2020-12-21 00:00:00  2020-12-23 00:00:00   \n",
                            "1    F  ...  Recuperado   2020-12-07 00:00:00  2020-12-23 00:00:00   \n",
                            "2    F  ...  Recuperado   2020-12-18 00:00:00  2020-12-22 00:00:00   \n",
                            "3    F  ...   Fallecido   2020-12-17 00:00:00  2020-12-23 00:00:00   \n",
                            "4    F  ...  Recuperado   2020-12-21 00:00:00  2020-12-23 00:00:00   \n",
                            "\n",
                            "      fecha_recuperado tipo_recuperacion per_etn_         fecha_muerte  \\\n",
                            "0  2021-01-04 00:00:00            Tiempo        6                  NaN   \n",
                            "1  2020-12-25 00:00:00            Tiempo        6                  NaN   \n",
                            "2  2021-01-01 00:00:00            Tiempo        6                  NaN   \n",
                            "3                  NaN               NaN        6  2020-12-30 00:00:00   \n",
                            "4  2021-01-04 00:00:00            Tiempo        6                  NaN   \n",
                            "\n",
                            "  nom_grupo_ pais_viajo_1_cod pais_viajo_1_nom  \n",
                            "0        NaN              NaN              NaN  \n",
                            "1        NaN              NaN              NaN  \n",
                            "2        NaN              NaN              NaN  \n",
                            "3        NaN              NaN              NaN  \n",
                            "4        NaN              NaN              NaN  \n",
                            "\n",
                            "[5 rows x 23 columns]"
                        ]
                    },
                    "execution_count": 110,
                    "metadata": {},
                    "output_type": "execute_result"
                }
            ],
            "source": [
                "# Convert to pandas DataFrame\n",
                "results_df = pd.DataFrame.from_records(results)\n",
                "results_df.head()"
            ]
        },
        {
            "cell_type": "code",
            "execution_count": 111,
            "metadata": {},
            "outputs": [
                {
                    "data": {
                        "text/plain": [
                            "(100000, 23)"
                        ]
                    },
                    "execution_count": 111,
                    "metadata": {},
                    "output_type": "execute_result"
                }
            ],
            "source": [
                "# Obtain dimensions\n",
                "results_df.shape"
            ]
        },
        {
            "cell_type": "code",
            "execution_count": 112,
            "metadata": {},
            "outputs": [
                {
                    "name": "stdout",
                    "output_type": "stream",
                    "text": [
                        "<class 'pandas.core.frame.DataFrame'>\n",
                        "RangeIndex: 100000 entries, 0 to 99999\n",
                        "Data columns (total 23 columns):\n",
                        " #   Column                 Non-Null Count   Dtype \n",
                        "---  ------                 --------------   ----- \n",
                        " 0   fecha_reporte_web      100000 non-null  object\n",
                        " 1   id_de_caso             100000 non-null  object\n",
                        " 2   fecha_de_notificaci_n  100000 non-null  object\n",
                        " 3   departamento           100000 non-null  object\n",
                        " 4   departamento_nom       100000 non-null  object\n",
                        " 5   ciudad_municipio       100000 non-null  object\n",
                        " 6   ciudad_municipio_nom   100000 non-null  object\n",
                        " 7   edad                   100000 non-null  object\n",
                        " 8   unidad_medida          100000 non-null  object\n",
                        " 9   sexo                   100000 non-null  object\n",
                        " 10  fuente_tipo_contagio   100000 non-null  object\n",
                        " 11  ubicacion              100000 non-null  object\n",
                        " 12  estado                 100000 non-null  object\n",
                        " 13  recuperado             100000 non-null  object\n",
                        " 14  fecha_inicio_sintomas  92425 non-null   object\n",
                        " 15  fecha_diagnostico      99873 non-null   object\n",
                        " 16  fecha_recuperado       96742 non-null   object\n",
                        " 17  tipo_recuperacion      96742 non-null   object\n",
                        " 18  per_etn_               100000 non-null  object\n",
                        " 19  fecha_muerte           3365 non-null    object\n",
                        " 20  nom_grupo_             1753 non-null    object\n",
                        " 21  pais_viajo_1_cod       67 non-null      object\n",
                        " 22  pais_viajo_1_nom       67 non-null      object\n",
                        "dtypes: object(23)\n",
                        "memory usage: 17.5+ MB\n"
                    ]
                }
            ],
            "source": [
                "# Obtain information about data types and non-null values\n",
                "results_df.info()"
            ]
        },
        {
            "cell_type": "code",
            "execution_count": 113,
            "metadata": {},
            "outputs": [
                {
                    "data": {
                        "text/plain": [
                            "pais_viajo_1_nom         99933\n",
                            "pais_viajo_1_cod         99933\n",
                            "nom_grupo_               98247\n",
                            "fecha_muerte             96635\n",
                            "fecha_inicio_sintomas     7575\n",
                            "tipo_recuperacion         3258\n",
                            "fecha_recuperado          3258\n",
                            "fecha_diagnostico          127\n",
                            "ciudad_municipio_nom         0\n",
                            "departamento_nom             0\n",
                            "ciudad_municipio             0\n",
                            "fecha_de_notificaci_n        0\n",
                            "id_de_caso                   0\n",
                            "fecha_reporte_web            0\n",
                            "departamento                 0\n",
                            "recuperado                   0\n",
                            "estado                       0\n",
                            "ubicacion                    0\n",
                            "fuente_tipo_contagio         0\n",
                            "unidad_medida                0\n",
                            "sexo                         0\n",
                            "edad                         0\n",
                            "per_etn_                     0\n",
                            "dtype: int64"
                        ]
                    },
                    "execution_count": 113,
                    "metadata": {},
                    "output_type": "execute_result"
                }
            ],
            "source": [
                "results_df.isnull().sum().sort_values(ascending=False)"
            ]
        },
        {
            "cell_type": "code",
            "execution_count": 114,
            "metadata": {},
            "outputs": [],
            "source": [
                "data_c = results_df.copy()"
            ]
        },
        {
            "cell_type": "code",
            "execution_count": 115,
            "metadata": {},
            "outputs": [],
            "source": [
                "data_c['fecha_reporte_web'] = pd.to_datetime(data_c['fecha_reporte_web'].str.split(' ').str[0], format = '%Y-%m-%d')\n",
                "data_c['fecha_de_notificaci_n'] = pd.to_datetime(data_c['fecha_de_notificaci_n'].str.split(' ').str[0], format = '%Y-%m-%d')\n",
                "data_c['fecha_inicio_sintomas'] = pd.to_datetime(data_c['fecha_inicio_sintomas'].str.split(' ').str[0], format = '%Y-%m-%d')\n",
                "data_c['fecha_diagnostico'] = pd.to_datetime(data_c['fecha_diagnostico'].str.split(' ').str[0], format = '%Y-%m-%d')\n",
                "data_c['fecha_recuperado'] = pd.to_datetime(data_c['fecha_recuperado'].str.split(' ').str[0], format = '%Y-%m-%d')\n",
                "data_c['fecha_muerte'] = pd.to_datetime(data_c['fecha_muerte'].str.split(' ').str[0], format = '%Y-%m-%d')"
            ]
        },
        {
            "cell_type": "code",
            "execution_count": 116,
            "metadata": {},
            "outputs": [],
            "source": [
                "data_c['id_de_caso'] = pd.to_numeric(data_c['id_de_caso'], errors='coerce')\n",
                "data_c['edad'] = pd.to_numeric(data_c['edad'], errors='coerce')\n",
                "data_c['unidad_medida'] = pd.to_numeric(data_c['unidad_medida'], errors='coerce')"
            ]
        },
        {
            "cell_type": "code",
            "execution_count": 117,
            "metadata": {},
            "outputs": [],
            "source": [
                "data_c.loc[data_c['unidad_medida'] == 2, 'edad'] = data_c['edad'] / 12\n",
                "data_c.loc[data_c['unidad_medida'] == 3, 'edad'] = data_c['edad'] / 365\n",
                "data_c['edad'] = data_c['edad'].round()"
            ]
        },
        {
            "cell_type": "code",
            "execution_count": 118,
            "metadata": {},
            "outputs": [],
            "source": [
                "edad = data_c[\"edad\"].value_counts()"
            ]
        },
        {
            "cell_type": "code",
            "execution_count": 119,
            "metadata": {},
            "outputs": [
                {
                    "data": {
                        "image/png": "[encoded data removed]",
                        "text/plain": [
                            "<Figure size 1500x600 with 1 Axes>"
                        ]
                    },
                    "metadata": {},
                    "output_type": "display_data"
                }
            ],
            "source": [
                "plt.figure(figsize=(15,6))\n",
                "sns.barplot(x=edad.index, y=edad.values).set(xlabel =\"Edad\", ylabel = \"Count\", title =None)\n",
                "plt.xticks(rotation=90)\n",
                "plt.tight_layout()\n",
                "plt.show()"
            ]
        },
        {
            "cell_type": "code",
            "execution_count": 120,
            "metadata": {},
            "outputs": [],
            "source": [
                "data_c = data_c.drop(columns=['departamento', 'ciudad_municipio', 'unidad_medida', 'per_etn_', 'nom_grupo_'])"
            ]
        },
        {
            "cell_type": "code",
            "execution_count": 121,
            "metadata": {},
            "outputs": [
                {
                    "data": {
                        "text/html": [
                            "<div>\n",
                            "<style scoped>\n",
                            "    .dataframe tbody tr th:only-of-type {\n",
                            "        vertical-align: middle;\n",
                            "    }\n",
                            "\n",
                            "    .dataframe tbody tr th {\n",
                            "        vertical-align: top;\n",
                            "    }\n",
                            "\n",
                            "    .dataframe thead th {\n",
                            "        text-align: right;\n",
                            "    }\n",
                            "</style>\n",
                            "<table border=\"1\" class=\"dataframe\">\n",
                            "  <thead>\n",
                            "    <tr style=\"text-align: right;\">\n",
                            "      <th></th>\n",
                            "      <th>fecha_reporte_web</th>\n",
                            "      <th>id_de_caso</th>\n",
                            "      <th>fecha_de_notificaci_n</th>\n",
                            "      <th>departamento_nom</th>\n",
                            "      <th>ciudad_municipio_nom</th>\n",
                            "      <th>edad</th>\n",
                            "      <th>sexo</th>\n",
                            "      <th>fuente_tipo_contagio</th>\n",
                            "      <th>ubicacion</th>\n",
                            "      <th>estado</th>\n",
                            "      <th>recuperado</th>\n",
                            "      <th>fecha_inicio_sintomas</th>\n",
                            "      <th>fecha_diagnostico</th>\n",
                            "      <th>fecha_recuperado</th>\n",
                            "      <th>tipo_recuperacion</th>\n",
                            "      <th>fecha_muerte</th>\n",
                            "      <th>pais_viajo_1_cod</th>\n",
                            "      <th>pais_viajo_1_nom</th>\n",
                            "    </tr>\n",
                            "  </thead>\n",
                            "  <tbody>\n",
                            "    <tr>\n",
                            "      <th>0</th>\n",
                            "      <td>2020-12-24</td>\n",
                            "      <td>1556979</td>\n",
                            "      <td>2020-12-22</td>\n",
                            "      <td>VALLE</td>\n",
                            "      <td>CALI</td>\n",
                            "      <td>67.0</td>\n",
                            "      <td>F</td>\n",
                            "      <td>Comunitaria</td>\n",
                            "      <td>Casa</td>\n",
                            "      <td>Leve</td>\n",
                            "      <td>Recuperado</td>\n",
                            "      <td>2020-12-21</td>\n",
                            "      <td>2020-12-23</td>\n",
                            "      <td>2021-01-04</td>\n",
                            "      <td>Tiempo</td>\n",
                            "      <td>NaT</td>\n",
                            "      <td>NaN</td>\n",
                            "      <td>NaN</td>\n",
                            "    </tr>\n",
                            "    <tr>\n",
                            "      <th>1</th>\n",
                            "      <td>2020-12-24</td>\n",
                            "      <td>1556980</td>\n",
                            "      <td>2020-12-19</td>\n",
                            "      <td>VALLE</td>\n",
                            "      <td>CALI</td>\n",
                            "      <td>66.0</td>\n",
                            "      <td>F</td>\n",
                            "      <td>Comunitaria</td>\n",
                            "      <td>Casa</td>\n",
                            "      <td>Leve</td>\n",
                            "      <td>Recuperado</td>\n",
                            "      <td>2020-12-07</td>\n",
                            "      <td>2020-12-23</td>\n",
                            "      <td>2020-12-25</td>\n",
                            "      <td>Tiempo</td>\n",
                            "      <td>NaT</td>\n",
                            "      <td>NaN</td>\n",
                            "      <td>NaN</td>\n",
                            "    </tr>\n",
                            "    <tr>\n",
                            "      <th>2</th>\n",
                            "      <td>2020-12-24</td>\n",
                            "      <td>1556981</td>\n",
                            "      <td>2020-12-19</td>\n",
                            "      <td>VALLE</td>\n",
                            "      <td>CALI</td>\n",
                            "      <td>68.0</td>\n",
                            "      <td>F</td>\n",
                            "      <td>Comunitaria</td>\n",
                            "      <td>Casa</td>\n",
                            "      <td>Leve</td>\n",
                            "      <td>Recuperado</td>\n",
                            "      <td>2020-12-18</td>\n",
                            "      <td>2020-12-22</td>\n",
                            "      <td>2021-01-01</td>\n",
                            "      <td>Tiempo</td>\n",
                            "      <td>NaT</td>\n",
                            "      <td>NaN</td>\n",
                            "      <td>NaN</td>\n",
                            "    </tr>\n",
                            "    <tr>\n",
                            "      <th>3</th>\n",
                            "      <td>2020-12-24</td>\n",
                            "      <td>1556982</td>\n",
                            "      <td>2020-12-22</td>\n",
                            "      <td>VALLE</td>\n",
                            "      <td>CALI</td>\n",
                            "      <td>74.0</td>\n",
                            "      <td>F</td>\n",
                            "      <td>Comunitaria</td>\n",
                            "      <td>Fallecido</td>\n",
                            "      <td>Fallecido</td>\n",
                            "      <td>Fallecido</td>\n",
                            "      <td>2020-12-17</td>\n",
                            "      <td>2020-12-23</td>\n",
                            "      <td>NaT</td>\n",
                            "      <td>NaN</td>\n",
                            "      <td>2020-12-30</td>\n",
                            "      <td>NaN</td>\n",
                            "      <td>NaN</td>\n",
                            "    </tr>\n",
                            "    <tr>\n",
                            "      <th>4</th>\n",
                            "      <td>2020-12-24</td>\n",
                            "      <td>1556983</td>\n",
                            "      <td>2020-12-22</td>\n",
                            "      <td>VALLE</td>\n",
                            "      <td>CALI</td>\n",
                            "      <td>65.0</td>\n",
                            "      <td>F</td>\n",
                            "      <td>Comunitaria</td>\n",
                            "      <td>Casa</td>\n",
                            "      <td>Leve</td>\n",
                            "      <td>Recuperado</td>\n",
                            "      <td>2020-12-21</td>\n",
                            "      <td>2020-12-23</td>\n",
                            "      <td>2021-01-04</td>\n",
                            "      <td>Tiempo</td>\n",
                            "      <td>NaT</td>\n",
                            "      <td>NaN</td>\n",
                            "      <td>NaN</td>\n",
                            "    </tr>\n",
                            "  </tbody>\n",
                            "</table>\n",
                            "</div>"
                        ],
                        "text/plain": [
                            "  fecha_reporte_web  id_de_caso fecha_de_notificaci_n departamento_nom  \\\n",
                            "0        2020-12-24     1556979            2020-12-22            VALLE   \n",
                            "1        2020-12-24     1556980            2020-12-19            VALLE   \n",
                            "2        2020-12-24     1556981            2020-12-19            VALLE   \n",
                            "3        2020-12-24     1556982            2020-12-22            VALLE   \n",
                            "4        2020-12-24     1556983            2020-12-22            VALLE   \n",
                            "\n",
                            "  ciudad_municipio_nom  edad sexo fuente_tipo_contagio  ubicacion     estado  \\\n",
                            "0                 CALI  67.0    F          Comunitaria       Casa       Leve   \n",
                            "1                 CALI  66.0    F          Comunitaria       Casa       Leve   \n",
                            "2                 CALI  68.0    F          Comunitaria       Casa       Leve   \n",
                            "3                 CALI  74.0    F          Comunitaria  Fallecido  Fallecido   \n",
                            "4                 CALI  65.0    F          Comunitaria       Casa       Leve   \n",
                            "\n",
                            "   recuperado fecha_inicio_sintomas fecha_diagnostico fecha_recuperado  \\\n",
                            "0  Recuperado            2020-12-21        2020-12-23       2021-01-04   \n",
                            "1  Recuperado            2020-12-07        2020-12-23       2020-12-25   \n",
                            "2  Recuperado            2020-12-18        2020-12-22       2021-01-01   \n",
                            "3   Fallecido            2020-12-17        2020-12-23              NaT   \n",
                            "4  Recuperado            2020-12-21        2020-12-23       2021-01-04   \n",
                            "\n",
                            "  tipo_recuperacion fecha_muerte pais_viajo_1_cod pais_viajo_1_nom  \n",
                            "0            Tiempo          NaT              NaN              NaN  \n",
                            "1            Tiempo          NaT              NaN              NaN  \n",
                            "2            Tiempo          NaT              NaN              NaN  \n",
                            "3               NaN   2020-12-30              NaN              NaN  \n",
                            "4            Tiempo          NaT              NaN              NaN  "
                        ]
                    },
                    "execution_count": 121,
                    "metadata": {},
                    "output_type": "execute_result"
                }
            ],
            "source": [
                "data_c.head()"
            ]
        },
        {
            "cell_type": "code",
            "execution_count": 122,
            "metadata": {},
            "outputs": [
                {
                    "data": {
                        "text/plain": [
                            "100000"
                        ]
                    },
                    "execution_count": 122,
                    "metadata": {},
                    "output_type": "execute_result"
                }
            ],
            "source": [
                "data_c[\"id_de_caso\"].nunique()"
            ]
        },
        {
            "cell_type": "code",
            "execution_count": 123,
            "metadata": {},
            "outputs": [
                {
                    "name": "stdout",
                    "output_type": "stream",
                    "text": [
                        "departamento_nom\n",
                        "BOGOTA             27587\n",
                        "ANTIOQUIA          14830\n",
                        "VALLE               8061\n",
                        "CUNDINAMARCA        4407\n",
                        "SANTANDER           4018\n",
                        "BARRANQUILLA        3241\n",
                        "TOLIMA              3057\n",
                        "CARTAGENA           3015\n",
                        "NORTE SANTANDER     2723\n",
                        "CALDAS              2471\n",
                        "HUILA               2415\n",
                        "META                2395\n",
                        "NARIÑO              2359\n",
                        "RISARALDA           2163\n",
                        "ATLANTICO           2160\n",
                        "CESAR               1967\n",
                        "BOYACA              1806\n",
                        "CORDOBA             1630\n",
                        "CAUCA               1398\n",
                        "QUINDIO             1358\n",
                        "SUCRE               1143\n",
                        "STA MARTA D.E.      1111\n",
                        "CAQUETA              941\n",
                        "GUAJIRA              744\n",
                        "CASANARE             510\n",
                        "MAGDALENA            464\n",
                        "BOLIVAR              438\n",
                        "PUTUMAYO             419\n",
                        "AMAZONAS             259\n",
                        "ARAUCA               256\n",
                        "CHOCO                236\n",
                        "SAN ANDRES           194\n",
                        "GUAVIARE              78\n",
                        "GUAINIA               63\n",
                        "VAUPES                60\n",
                        "VICHADA               23\n",
                        "Name: count, dtype: int64\n"
                    ]
                }
            ],
            "source": [
                "departamento_nom = data_c[\"departamento_nom\"].value_counts()\n",
                "print(f\"{departamento_nom}\")"
            ]
        },
        {
            "cell_type": "code",
            "execution_count": 124,
            "metadata": {},
            "outputs": [
                {
                    "data": {
                        "text/plain": [
                            "36"
                        ]
                    },
                    "execution_count": 124,
                    "metadata": {},
                    "output_type": "execute_result"
                }
            ],
            "source": [
                "len(departamento_nom)"
            ]
        },
        {
            "cell_type": "code",
            "execution_count": 125,
            "metadata": {},
            "outputs": [
                {
                    "data": {
                        "image/png": "[encoded data removed]",
                        "text/plain": [
                            "<Figure size 1500x600 with 1 Axes>"
                        ]
                    },
                    "metadata": {},
                    "output_type": "display_data"
                }
            ],
            "source": [
                "plt.figure(figsize=(15,6))\n",
                "sns.barplot(x=departamento_nom.index, y=departamento_nom.values).set(xlabel =\"departamento_nom\", ylabel = \"Count\", title =None)\n",
                "plt.xticks(rotation=90) \n",
                "plt.tight_layout()\n",
                "plt.show()"
            ]
        },
        {
            "cell_type": "code",
            "execution_count": 126,
            "metadata": {},
            "outputs": [],
            "source": [
                "data_c['departamento_nom'] = data_c['departamento_nom'].replace('BARRANQUILLA', 'ATLANTICO')\n",
                "data_c['departamento_nom'] = data_c['departamento_nom'].replace('CARTAGENA', 'BOLIVAR')\n",
                "data_c['departamento_nom'] = data_c['departamento_nom'].replace('STA MARTA D.E.', 'MAGDALENA')"
            ]
        },
        {
            "cell_type": "code",
            "execution_count": 127,
            "metadata": {},
            "outputs": [
                {
                    "name": "stdout",
                    "output_type": "stream",
                    "text": [
                        "sexo\n",
                        "F    50372\n",
                        "M    49628\n",
                        "Name: count, dtype: int64\n"
                    ]
                }
            ],
            "source": [
                "sexo=data_c[\"sexo\"].value_counts()\n",
                "print(f\"{sexo}\")"
            ]
        },
        {
            "cell_type": "code",
            "execution_count": 128,
            "metadata": {},
            "outputs": [
                {
                    "data": {
                        "text/html": [
                            "<div>\n",
                            "<style scoped>\n",
                            "    .dataframe tbody tr th:only-of-type {\n",
                            "        vertical-align: middle;\n",
                            "    }\n",
                            "\n",
                            "    .dataframe tbody tr th {\n",
                            "        vertical-align: top;\n",
                            "    }\n",
                            "\n",
                            "    .dataframe thead th {\n",
                            "        text-align: right;\n",
                            "    }\n",
                            "</style>\n",
                            "<table border=\"1\" class=\"dataframe\">\n",
                            "  <thead>\n",
                            "    <tr style=\"text-align: right;\">\n",
                            "      <th></th>\n",
                            "      <th>fecha_reporte_web</th>\n",
                            "      <th>id_de_caso</th>\n",
                            "      <th>fecha_de_notificaci_n</th>\n",
                            "      <th>departamento_nom</th>\n",
                            "      <th>ciudad_municipio_nom</th>\n",
                            "      <th>edad</th>\n",
                            "      <th>fuente_tipo_contagio</th>\n",
                            "      <th>ubicacion</th>\n",
                            "      <th>estado</th>\n",
                            "      <th>recuperado</th>\n",
                            "      <th>fecha_inicio_sintomas</th>\n",
                            "      <th>fecha_diagnostico</th>\n",
                            "      <th>fecha_recuperado</th>\n",
                            "      <th>tipo_recuperacion</th>\n",
                            "      <th>fecha_muerte</th>\n",
                            "      <th>pais_viajo_1_cod</th>\n",
                            "      <th>pais_viajo_1_nom</th>\n",
                            "      <th>sexo_F</th>\n",
                            "      <th>sexo_M</th>\n",
                            "    </tr>\n",
                            "  </thead>\n",
                            "  <tbody>\n",
                            "    <tr>\n",
                            "      <th>0</th>\n",
                            "      <td>2020-12-24</td>\n",
                            "      <td>1556979</td>\n",
                            "      <td>2020-12-22</td>\n",
                            "      <td>VALLE</td>\n",
                            "      <td>CALI</td>\n",
                            "      <td>67.0</td>\n",
                            "      <td>Comunitaria</td>\n",
                            "      <td>Casa</td>\n",
                            "      <td>Leve</td>\n",
                            "      <td>Recuperado</td>\n",
                            "      <td>2020-12-21</td>\n",
                            "      <td>2020-12-23</td>\n",
                            "      <td>2021-01-04</td>\n",
                            "      <td>Tiempo</td>\n",
                            "      <td>NaT</td>\n",
                            "      <td>NaN</td>\n",
                            "      <td>NaN</td>\n",
                            "      <td>True</td>\n",
                            "      <td>False</td>\n",
                            "    </tr>\n",
                            "    <tr>\n",
                            "      <th>1</th>\n",
                            "      <td>2020-12-24</td>\n",
                            "      <td>1556980</td>\n",
                            "      <td>2020-12-19</td>\n",
                            "      <td>VALLE</td>\n",
                            "      <td>CALI</td>\n",
                            "      <td>66.0</td>\n",
                            "      <td>Comunitaria</td>\n",
                            "      <td>Casa</td>\n",
                            "      <td>Leve</td>\n",
                            "      <td>Recuperado</td>\n",
                            "      <td>2020-12-07</td>\n",
                            "      <td>2020-12-23</td>\n",
                            "      <td>2020-12-25</td>\n",
                            "      <td>Tiempo</td>\n",
                            "      <td>NaT</td>\n",
                            "      <td>NaN</td>\n",
                            "      <td>NaN</td>\n",
                            "      <td>True</td>\n",
                            "      <td>False</td>\n",
                            "    </tr>\n",
                            "    <tr>\n",
                            "      <th>2</th>\n",
                            "      <td>2020-12-24</td>\n",
                            "      <td>1556981</td>\n",
                            "      <td>2020-12-19</td>\n",
                            "      <td>VALLE</td>\n",
                            "      <td>CALI</td>\n",
                            "      <td>68.0</td>\n",
                            "      <td>Comunitaria</td>\n",
                            "      <td>Casa</td>\n",
                            "      <td>Leve</td>\n",
                            "      <td>Recuperado</td>\n",
                            "      <td>2020-12-18</td>\n",
                            "      <td>2020-12-22</td>\n",
                            "      <td>2021-01-01</td>\n",
                            "      <td>Tiempo</td>\n",
                            "      <td>NaT</td>\n",
                            "      <td>NaN</td>\n",
                            "      <td>NaN</td>\n",
                            "      <td>True</td>\n",
                            "      <td>False</td>\n",
                            "    </tr>\n",
                            "    <tr>\n",
                            "      <th>3</th>\n",
                            "      <td>2020-12-24</td>\n",
                            "      <td>1556982</td>\n",
                            "      <td>2020-12-22</td>\n",
                            "      <td>VALLE</td>\n",
                            "      <td>CALI</td>\n",
                            "      <td>74.0</td>\n",
                            "      <td>Comunitaria</td>\n",
                            "      <td>Fallecido</td>\n",
                            "      <td>Fallecido</td>\n",
                            "      <td>Fallecido</td>\n",
                            "      <td>2020-12-17</td>\n",
                            "      <td>2020-12-23</td>\n",
                            "      <td>NaT</td>\n",
                            "      <td>NaN</td>\n",
                            "      <td>2020-12-30</td>\n",
                            "      <td>NaN</td>\n",
                            "      <td>NaN</td>\n",
                            "      <td>True</td>\n",
                            "      <td>False</td>\n",
                            "    </tr>\n",
                            "    <tr>\n",
                            "      <th>4</th>\n",
                            "      <td>2020-12-24</td>\n",
                            "      <td>1556983</td>\n",
                            "      <td>2020-12-22</td>\n",
                            "      <td>VALLE</td>\n",
                            "      <td>CALI</td>\n",
                            "      <td>65.0</td>\n",
                            "      <td>Comunitaria</td>\n",
                            "      <td>Casa</td>\n",
                            "      <td>Leve</td>\n",
                            "      <td>Recuperado</td>\n",
                            "      <td>2020-12-21</td>\n",
                            "      <td>2020-12-23</td>\n",
                            "      <td>2021-01-04</td>\n",
                            "      <td>Tiempo</td>\n",
                            "      <td>NaT</td>\n",
                            "      <td>NaN</td>\n",
                            "      <td>NaN</td>\n",
                            "      <td>True</td>\n",
                            "      <td>False</td>\n",
                            "    </tr>\n",
                            "  </tbody>\n",
                            "</table>\n",
                            "</div>"
                        ],
                        "text/plain": [
                            "  fecha_reporte_web  id_de_caso fecha_de_notificaci_n departamento_nom  \\\n",
                            "0        2020-12-24     1556979            2020-12-22            VALLE   \n",
                            "1        2020-12-24     1556980            2020-12-19            VALLE   \n",
                            "2        2020-12-24     1556981            2020-12-19            VALLE   \n",
                            "3        2020-12-24     1556982            2020-12-22            VALLE   \n",
                            "4        2020-12-24     1556983            2020-12-22            VALLE   \n",
                            "\n",
                            "  ciudad_municipio_nom  edad fuente_tipo_contagio  ubicacion     estado  \\\n",
                            "0                 CALI  67.0          Comunitaria       Casa       Leve   \n",
                            "1                 CALI  66.0          Comunitaria       Casa       Leve   \n",
                            "2                 CALI  68.0          Comunitaria       Casa       Leve   \n",
                            "3                 CALI  74.0          Comunitaria  Fallecido  Fallecido   \n",
                            "4                 CALI  65.0          Comunitaria       Casa       Leve   \n",
                            "\n",
                            "   recuperado fecha_inicio_sintomas fecha_diagnostico fecha_recuperado  \\\n",
                            "0  Recuperado            2020-12-21        2020-12-23       2021-01-04   \n",
                            "1  Recuperado            2020-12-07        2020-12-23       2020-12-25   \n",
                            "2  Recuperado            2020-12-18        2020-12-22       2021-01-01   \n",
                            "3   Fallecido            2020-12-17        2020-12-23              NaT   \n",
                            "4  Recuperado            2020-12-21        2020-12-23       2021-01-04   \n",
                            "\n",
                            "  tipo_recuperacion fecha_muerte pais_viajo_1_cod pais_viajo_1_nom  sexo_F  \\\n",
                            "0            Tiempo          NaT              NaN              NaN    True   \n",
                            "1            Tiempo          NaT              NaN              NaN    True   \n",
                            "2            Tiempo          NaT              NaN              NaN    True   \n",
                            "3               NaN   2020-12-30              NaN              NaN    True   \n",
                            "4            Tiempo          NaT              NaN              NaN    True   \n",
                            "\n",
                            "   sexo_M  \n",
                            "0   False  \n",
                            "1   False  \n",
                            "2   False  \n",
                            "3   False  \n",
                            "4   False  "
                        ]
                    },
                    "execution_count": 128,
                    "metadata": {},
                    "output_type": "execute_result"
                }
            ],
            "source": [
                "data_c = pd.get_dummies(data_c, columns = ['sexo'])\n",
                "data_c.head()"
            ]
        },
        {
            "cell_type": "code",
            "execution_count": 129,
            "metadata": {},
            "outputs": [
                {
                    "data": {
                        "text/html": [
                            "<div>\n",
                            "<style scoped>\n",
                            "    .dataframe tbody tr th:only-of-type {\n",
                            "        vertical-align: middle;\n",
                            "    }\n",
                            "\n",
                            "    .dataframe tbody tr th {\n",
                            "        vertical-align: top;\n",
                            "    }\n",
                            "\n",
                            "    .dataframe thead th {\n",
                            "        text-align: right;\n",
                            "    }\n",
                            "</style>\n",
                            "<table border=\"1\" class=\"dataframe\">\n",
                            "  <thead>\n",
                            "    <tr style=\"text-align: right;\">\n",
                            "      <th></th>\n",
                            "      <th>fecha_reporte_web</th>\n",
                            "      <th>id_de_caso</th>\n",
                            "      <th>fecha_de_notificaci_n</th>\n",
                            "      <th>departamento_nom</th>\n",
                            "      <th>ciudad_municipio_nom</th>\n",
                            "      <th>edad</th>\n",
                            "      <th>fuente_tipo_contagio</th>\n",
                            "      <th>ubicacion</th>\n",
                            "      <th>estado</th>\n",
                            "      <th>recuperado</th>\n",
                            "      <th>fecha_inicio_sintomas</th>\n",
                            "      <th>fecha_diagnostico</th>\n",
                            "      <th>fecha_recuperado</th>\n",
                            "      <th>tipo_recuperacion</th>\n",
                            "      <th>fecha_muerte</th>\n",
                            "      <th>pais_viajo_1_cod</th>\n",
                            "      <th>pais_viajo_1_nom</th>\n",
                            "      <th>sexo_F</th>\n",
                            "      <th>sexo_M</th>\n",
                            "    </tr>\n",
                            "  </thead>\n",
                            "  <tbody>\n",
                            "    <tr>\n",
                            "      <th>0</th>\n",
                            "      <td>2020-12-24</td>\n",
                            "      <td>1556979</td>\n",
                            "      <td>2020-12-22</td>\n",
                            "      <td>VALLE</td>\n",
                            "      <td>CALI</td>\n",
                            "      <td>67.0</td>\n",
                            "      <td>Comunitaria</td>\n",
                            "      <td>Casa</td>\n",
                            "      <td>Leve</td>\n",
                            "      <td>Recuperado</td>\n",
                            "      <td>2020-12-21</td>\n",
                            "      <td>2020-12-23</td>\n",
                            "      <td>2021-01-04</td>\n",
                            "      <td>Tiempo</td>\n",
                            "      <td>NaT</td>\n",
                            "      <td>NaN</td>\n",
                            "      <td>NaN</td>\n",
                            "      <td>1</td>\n",
                            "      <td>0</td>\n",
                            "    </tr>\n",
                            "    <tr>\n",
                            "      <th>1</th>\n",
                            "      <td>2020-12-24</td>\n",
                            "      <td>1556980</td>\n",
                            "      <td>2020-12-19</td>\n",
                            "      <td>VALLE</td>\n",
                            "      <td>CALI</td>\n",
                            "      <td>66.0</td>\n",
                            "      <td>Comunitaria</td>\n",
                            "      <td>Casa</td>\n",
                            "      <td>Leve</td>\n",
                            "      <td>Recuperado</td>\n",
                            "      <td>2020-12-07</td>\n",
                            "      <td>2020-12-23</td>\n",
                            "      <td>2020-12-25</td>\n",
                            "      <td>Tiempo</td>\n",
                            "      <td>NaT</td>\n",
                            "      <td>NaN</td>\n",
                            "      <td>NaN</td>\n",
                            "      <td>1</td>\n",
                            "      <td>0</td>\n",
                            "    </tr>\n",
                            "    <tr>\n",
                            "      <th>2</th>\n",
                            "      <td>2020-12-24</td>\n",
                            "      <td>1556981</td>\n",
                            "      <td>2020-12-19</td>\n",
                            "      <td>VALLE</td>\n",
                            "      <td>CALI</td>\n",
                            "      <td>68.0</td>\n",
                            "      <td>Comunitaria</td>\n",
                            "      <td>Casa</td>\n",
                            "      <td>Leve</td>\n",
                            "      <td>Recuperado</td>\n",
                            "      <td>2020-12-18</td>\n",
                            "      <td>2020-12-22</td>\n",
                            "      <td>2021-01-01</td>\n",
                            "      <td>Tiempo</td>\n",
                            "      <td>NaT</td>\n",
                            "      <td>NaN</td>\n",
                            "      <td>NaN</td>\n",
                            "      <td>1</td>\n",
                            "      <td>0</td>\n",
                            "    </tr>\n",
                            "    <tr>\n",
                            "      <th>3</th>\n",
                            "      <td>2020-12-24</td>\n",
                            "      <td>1556982</td>\n",
                            "      <td>2020-12-22</td>\n",
                            "      <td>VALLE</td>\n",
                            "      <td>CALI</td>\n",
                            "      <td>74.0</td>\n",
                            "      <td>Comunitaria</td>\n",
                            "      <td>Fallecido</td>\n",
                            "      <td>Fallecido</td>\n",
                            "      <td>Fallecido</td>\n",
                            "      <td>2020-12-17</td>\n",
                            "      <td>2020-12-23</td>\n",
                            "      <td>NaT</td>\n",
                            "      <td>NaN</td>\n",
                            "      <td>2020-12-30</td>\n",
                            "      <td>NaN</td>\n",
                            "      <td>NaN</td>\n",
                            "      <td>1</td>\n",
                            "      <td>0</td>\n",
                            "    </tr>\n",
                            "    <tr>\n",
                            "      <th>4</th>\n",
                            "      <td>2020-12-24</td>\n",
                            "      <td>1556983</td>\n",
                            "      <td>2020-12-22</td>\n",
                            "      <td>VALLE</td>\n",
                            "      <td>CALI</td>\n",
                            "      <td>65.0</td>\n",
                            "      <td>Comunitaria</td>\n",
                            "      <td>Casa</td>\n",
                            "      <td>Leve</td>\n",
                            "      <td>Recuperado</td>\n",
                            "      <td>2020-12-21</td>\n",
                            "      <td>2020-12-23</td>\n",
                            "      <td>2021-01-04</td>\n",
                            "      <td>Tiempo</td>\n",
                            "      <td>NaT</td>\n",
                            "      <td>NaN</td>\n",
                            "      <td>NaN</td>\n",
                            "      <td>1</td>\n",
                            "      <td>0</td>\n",
                            "    </tr>\n",
                            "  </tbody>\n",
                            "</table>\n",
                            "</div>"
                        ],
                        "text/plain": [
                            "  fecha_reporte_web  id_de_caso fecha_de_notificaci_n departamento_nom  \\\n",
                            "0        2020-12-24     1556979            2020-12-22            VALLE   \n",
                            "1        2020-12-24     1556980            2020-12-19            VALLE   \n",
                            "2        2020-12-24     1556981            2020-12-19            VALLE   \n",
                            "3        2020-12-24     1556982            2020-12-22            VALLE   \n",
                            "4        2020-12-24     1556983            2020-12-22            VALLE   \n",
                            "\n",
                            "  ciudad_municipio_nom  edad fuente_tipo_contagio  ubicacion     estado  \\\n",
                            "0                 CALI  67.0          Comunitaria       Casa       Leve   \n",
                            "1                 CALI  66.0          Comunitaria       Casa       Leve   \n",
                            "2                 CALI  68.0          Comunitaria       Casa       Leve   \n",
                            "3                 CALI  74.0          Comunitaria  Fallecido  Fallecido   \n",
                            "4                 CALI  65.0          Comunitaria       Casa       Leve   \n",
                            "\n",
                            "   recuperado fecha_inicio_sintomas fecha_diagnostico fecha_recuperado  \\\n",
                            "0  Recuperado            2020-12-21        2020-12-23       2021-01-04   \n",
                            "1  Recuperado            2020-12-07        2020-12-23       2020-12-25   \n",
                            "2  Recuperado            2020-12-18        2020-12-22       2021-01-01   \n",
                            "3   Fallecido            2020-12-17        2020-12-23              NaT   \n",
                            "4  Recuperado            2020-12-21        2020-12-23       2021-01-04   \n",
                            "\n",
                            "  tipo_recuperacion fecha_muerte pais_viajo_1_cod pais_viajo_1_nom  sexo_F  \\\n",
                            "0            Tiempo          NaT              NaN              NaN       1   \n",
                            "1            Tiempo          NaT              NaN              NaN       1   \n",
                            "2            Tiempo          NaT              NaN              NaN       1   \n",
                            "3               NaN   2020-12-30              NaN              NaN       1   \n",
                            "4            Tiempo          NaT              NaN              NaN       1   \n",
                            "\n",
                            "   sexo_M  \n",
                            "0       0  \n",
                            "1       0  \n",
                            "2       0  \n",
                            "3       0  \n",
                            "4       0  "
                        ]
                    },
                    "execution_count": 129,
                    "metadata": {},
                    "output_type": "execute_result"
                }
            ],
            "source": [
                "data_c['sexo_F'] = data_c['sexo_F'].astype(int)\n",
                "data_c['sexo_M'] = data_c['sexo_M'].astype(int)\n",
                "data_c.head()"
            ]
        },
        {
            "cell_type": "code",
            "execution_count": 130,
            "metadata": {},
            "outputs": [
                {
                    "data": {
                        "text/plain": [
                            "Index(['fecha_reporte_web', 'id_de_caso', 'fecha_de_notificaci_n',\n",
                            "       'departamento_nom', 'ciudad_municipio_nom', 'edad',\n",
                            "       'fuente_tipo_contagio', 'ubicacion', 'estado', 'recuperado',\n",
                            "       'fecha_inicio_sintomas', 'fecha_diagnostico', 'fecha_recuperado',\n",
                            "       'tipo_recuperacion', 'fecha_muerte', 'pais_viajo_1_cod',\n",
                            "       'pais_viajo_1_nom', 'sexo_F', 'sexo_M'],\n",
                            "      dtype='object')"
                        ]
                    },
                    "execution_count": 130,
                    "metadata": {},
                    "output_type": "execute_result"
                }
            ],
            "source": [
                "data_c.columns"
            ]
        },
        {
            "cell_type": "code",
            "execution_count": 131,
            "metadata": {},
            "outputs": [
                {
                    "name": "stdout",
                    "output_type": "stream",
                    "text": [
                        "fuente_tipo_contagio\n",
                        "Comunitaria    76360\n",
                        "Relacionado    23573\n",
                        "Importado         67\n",
                        "Name: count, dtype: int64\n"
                    ]
                }
            ],
            "source": [
                "fuente_tipo_contagio = data_c[\"fuente_tipo_contagio\"].value_counts()\n",
                "print(f\"{fuente_tipo_contagio}\")"
            ]
        },
        {
            "cell_type": "code",
            "execution_count": 132,
            "metadata": {},
            "outputs": [
                {
                    "name": "stdout",
                    "output_type": "stream",
                    "text": [
                        "ubicacion\n",
                        "Casa         96630\n",
                        "Fallecido     2809\n",
                        "N/A            556\n",
                        "casa             5\n",
                        "Name: count, dtype: int64\n"
                    ]
                }
            ],
            "source": [
                "# * Corresponde a muertes no relacionadas con COVID-19, aún si eran casos activos **Hay pacientes recuperados para COVID-19, que pueden permanecer en hospitalización por otras comorbilidades\n",
                "ubicacion = data_c[\"ubicacion\"].value_counts()\n",
                "print(f\"{ubicacion}\")"
            ]
        },
        {
            "cell_type": "code",
            "execution_count": 133,
            "metadata": {},
            "outputs": [
                {
                    "name": "stdout",
                    "output_type": "stream",
                    "text": [
                        "ubicacion\n",
                        "Casa         96635\n",
                        "Fallecido     2809\n",
                        "N/A            556\n",
                        "Name: count, dtype: int64\n"
                    ]
                }
            ],
            "source": [
                "data_c['ubicacion'] = data_c['ubicacion'].replace('casa', 'Casa')\n",
                "ubicacion = data_c[\"ubicacion\"].value_counts()\n",
                "print(f\"{ubicacion}\")"
            ]
        },
        {
            "cell_type": "code",
            "execution_count": 134,
            "metadata": {},
            "outputs": [
                {
                    "name": "stdout",
                    "output_type": "stream",
                    "text": [
                        "estado\n",
                        "Leve         96630\n",
                        "Fallecido     2809\n",
                        "N/A            556\n",
                        "leve             5\n",
                        "Name: count, dtype: int64\n"
                    ]
                }
            ],
            "source": [
                "# * Corresponde a muertes no relacionadas con COVID-19, aún si eran casos activos **Hay pacientes recuperados para COVID-19, que pueden permanecer en hospitalización por otras comorbilidades\n",
                "estado = data_c[\"estado\"].value_counts()\n",
                "print(f\"{estado}\")"
            ]
        },
        {
            "cell_type": "code",
            "execution_count": 135,
            "metadata": {},
            "outputs": [
                {
                    "name": "stdout",
                    "output_type": "stream",
                    "text": [
                        "estado\n",
                        "Leve         96635\n",
                        "Fallecido     2809\n",
                        "N/A            556\n",
                        "Name: count, dtype: int64\n"
                    ]
                }
            ],
            "source": [
                "data_c['estado'] = data_c['estado'].replace('leve', 'Leve')\n",
                "estado = data_c[\"estado\"].value_counts()\n",
                "print(f\"{estado}\")"
            ]
        },
        {
            "cell_type": "code",
            "execution_count": 136,
            "metadata": {},
            "outputs": [
                {
                    "name": "stdout",
                    "output_type": "stream",
                    "text": [
                        "recuperado\n",
                        "Recuperado    96742\n",
                        "Fallecido      2799\n",
                        "N/A             449\n",
                        "fallecido        10\n",
                        "Name: count, dtype: int64\n"
                    ]
                }
            ],
            "source": [
                "# Recuperado Fallecido N/A (Vacío). N/A se refiere a los fallecidos no COVID. \n",
                "# Pueden haber casos recuperados con ubicación Hospital u Hospital UCI, ya que permanecen en hospitalización por causas diferentes. \n",
                "# Los casos con información en blanco en esta columna corresponde a los casos activos\n",
                "recuperado = data_c[\"recuperado\"].value_counts()\n",
                "print(f\"{recuperado}\")"
            ]
        },
        {
            "cell_type": "code",
            "execution_count": 137,
            "metadata": {},
            "outputs": [
                {
                    "name": "stdout",
                    "output_type": "stream",
                    "text": [
                        "recuperado\n",
                        "Recuperado    96742\n",
                        "Fallecido      2809\n",
                        "N/A             449\n",
                        "Name: count, dtype: int64\n"
                    ]
                }
            ],
            "source": [
                "data_c['recuperado'] = data_c['recuperado'].replace('fallecido', 'Fallecido')\n",
                "recuperado = data_c[\"recuperado\"].value_counts()\n",
                "print(f\"{recuperado}\")"
            ]
        },
        {
            "cell_type": "code",
            "execution_count": 139,
            "metadata": {},
            "outputs": [
                {
                    "name": "stdout",
                    "output_type": "stream",
                    "text": [
                        "tipo_recuperacion\n",
                        "Tiempo    75705\n",
                        "PCR       21037\n",
                        "Name: count, dtype: int64\n"
                    ]
                }
            ],
            "source": [
                "# Se refiere a la variable de tipo de recuperación que tiene dos opciones: PCR y tiempo. \n",
                "# PCR indica que la persona se encuentra recuperada por segunda muestra, en donde dio negativo para el virus; \n",
                "# Tiempo significa que son personas que cumplieron 30 días posteriores al inicio de síntomas o toma de muestras que no tienen síntomas, \n",
                "# que no tengan más de 70 años ni que estén hospitalizados.\n",
                "data_c['tipo_recuperacion'] = data_c['tipo_recuperacion'].replace('NaN', np.nan)\n",
                "tipo_recuperacion = data_c[\"tipo_recuperacion\"].value_counts()\n",
                "print(f\"{tipo_recuperacion}\")"
            ]
        },
        {
            "cell_type": "code",
            "execution_count": null,
            "metadata": {},
            "outputs": [
                {
                    "name": "stdout",
                    "output_type": "stream",
                    "text": [
                        "pais_viajo_1_nom\n",
                        "ESTADOS UNIDOS DE AMÉRICA    27\n",
                        "MÉXICO                       11\n",
                        "BRASIL                        6\n",
                        "REPÚBLICA DOMINICANA          5\n",
                        "ECUADOR                       4\n",
                        "PERÚ                          2\n",
                        "ESPAÑA                        2\n",
                        "EL SALVADOR                   2\n",
                        "PORTUGAL                      1\n",
                        "FRANCIA                       1\n",
                        "ALEMANIA                      1\n",
                        "PANAMÁ                        1\n",
                        "ARMENIA                       1\n",
                        "EMIRATOS ARABES UNIDOS        1\n",
                        "NORUEGA                       1\n",
                        "DOMINICA                      1\n",
                        "Name: count, dtype: int64\n"
                    ]
                }
            ],
            "source": [
                "pais_viajo_1_nom = data_c[\"pais_viajo_1_nom\"].value_counts()\n",
                "print(f\"{pais_viajo_1_nom}\")"
            ]
        },
        {
            "cell_type": "code",
            "execution_count": 141,
            "metadata": {},
            "outputs": [
                {
                    "name": "stdout",
                    "output_type": "stream",
                    "text": [
                        "pais_viajo_1_cod\n",
                        "840    27\n",
                        "484    11\n",
                        "76      6\n",
                        "214     5\n",
                        "218     4\n",
                        "604     2\n",
                        "724     2\n",
                        "222     2\n",
                        "620     1\n",
                        "250     1\n",
                        "276     1\n",
                        "591     1\n",
                        "51      1\n",
                        "784     1\n",
                        "578     1\n",
                        "212     1\n",
                        "Name: count, dtype: int64\n"
                    ]
                }
            ],
            "source": [
                "pais_viajo_1_cod = data_c[\"pais_viajo_1_cod\"].value_counts()\n",
                "print(f\"{pais_viajo_1_cod}\")"
            ]
        }
    ],
    "metadata": {
        "kernelspec": {
            "display_name": "Python 3",
            "language": "python",
            "name": "python3"
        },
        "language_info": {
            "codemirror_mode": {
                "name": "ipython",
                "version": 3
            },
            "file_extension": ".py",
            "mimetype": "text/x-python",
            "name": "python",
            "nbconvert_exporter": "python",
            "pygments_lexer": "ipython3",
            "version": "3.11.4"
        },
        "orig_nbformat": 4
    },
    "nbformat": 4,
    "nbformat_minor": 2
}
