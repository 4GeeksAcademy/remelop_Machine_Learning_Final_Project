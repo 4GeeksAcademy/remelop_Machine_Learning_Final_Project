{
    "cells": [
        {
            "cell_type": "markdown",
            "metadata": {},
            "source": [
                "# Proyecto final de Machine Learning"
            ]
        },
        {
            "cell_type": "code",
            "execution_count": 1,
            "metadata": {},
            "outputs": [],
            "source": [
                "# Libraries\n",
                "import pandas as pd\n",
                "import numpy as np\n",
                "import matplotlib.pyplot as plt\n",
                "import seaborn as sns"
            ]
        },
        {
            "cell_type": "code",
            "execution_count": null,
            "metadata": {},
            "outputs": [],
            "source": [
                "# make sure to install these packages before running:\n",
                "# pip install pandas\n",
                "# pip install sodapy\n",
                "\n",
                "import pandas as pd\n",
                "from sodapy import Socrata\n",
                "\n",
                "# Unauthenticated client only works with public data sets. Note 'None'\n",
                "# in place of application token, and no username or password:\n",
                "client = Socrata(\"www.datos.gov.co\", None)\n",
                "\n",
                "# Example authenticated client (needed for non-public datasets):\n",
                "# client = Socrata(www.datos.gov.co,\n",
                "#                  MyAppToken,\n",
                "#                  username=\"user@example.com\",\n",
                "#                  password=\"AFakePassword\")\n",
                "\n",
                "# First 2000 results, returned as JSON from API / converted to Python list of\n",
                "# dictionaries by sodapy.\n",
                "results = client.get(\"y399-rzwf\", limit=2000)\n",
                "\n",
                "# Convert to pandas DataFrame\n",
                "results_df = pd.DataFrame.from_records(results)"
            ]
        }
    ],
    "metadata": {
        "kernelspec": {
            "display_name": "Python 3",
            "language": "python",
            "name": "python3"
        },
        "language_info": {
            "codemirror_mode": {
                "name": "ipython",
                "version": 3
            },
            "file_extension": ".py",
            "mimetype": "text/x-python",
            "name": "python",
            "nbconvert_exporter": "python",
            "pygments_lexer": "ipython3",
            "version": "3.11.4"
        },
        "orig_nbformat": 4
    },
    "nbformat": 4,
    "nbformat_minor": 2
}
